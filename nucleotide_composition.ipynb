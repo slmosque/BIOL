{
 "cells": [
  {
   "cell_type": "code",
   "execution_count": 337,
   "metadata": {},
   "outputs": [],
   "source": [
    "# set the name of input DNA sequence file\n",
    "filename = 'dna.txt'"
   ]
  },
  {
   "cell_type": "code",
   "execution_count": 338,
   "metadata": {},
   "outputs": [],
   "source": [
    "# open the input file, assign to file handle called 'infile'\n",
    "infile = open(filename, 'r')\n",
    "\n",
    "#print(infile)"
   ]
  },
  {
   "cell_type": "code",
   "execution_count": 339,
   "metadata": {},
   "outputs": [],
   "source": [
    "#read the file\n",
    "dna_sequence = infile.read()\n",
    "dna_sequence = dna_sequence.rstrip()\n"
   ]
  },
  {
   "cell_type": "code",
   "execution_count": 340,
   "metadata": {},
   "outputs": [
    {
     "name": "stdout",
     "output_type": "stream",
     "text": [
      "ACGGATCCTATCAAATATTTCACATTTTCTATGATCATCTCTATTTTAGGTATTCGGGGAATCCTCCTTAATAGACGAAATATTCCTATTATGTCAATGCCAATTGAATCAATGTTATTAGCTGTGAATTCGAACTTTTTGGTATTTTCCGTTTCTTCGGATGATATGATGGGTCAATCATTTGCTTCATTGGTTCCAACGGTGGCAGCTGCGGAATCCGCTATTGGGTTAGCCATTTTCGTTATTACTTTCCGAGTCCGAGGGACTATTGCTGTAGAATTTATTAATAGCATTCAAGGTTAA\n"
     ]
    }
   ],
   "source": [
    "# print the dna sequence\n",
    "print(dna_sequence)"
   ]
  },
  {
   "cell_type": "code",
   "execution_count": 341,
   "metadata": {},
   "outputs": [],
   "source": [
    "# close the file\n",
    "infile.close()"
   ]
  },
  {
   "cell_type": "code",
   "execution_count": 342,
   "metadata": {},
   "outputs": [
    {
     "name": "stdout",
     "output_type": "stream",
     "text": [
      "ACGGATCCTATCAAATATTTCACATTTTCTATGATCATCTCTATTTTAGGTATTCGGGGAATCCTCCTTAATAGACGAAATATTCCTATTATGTCAATGCCAATTGAATCAATGTTATTAGCTGTGAATTCGAACTTTTTGGTATTTTCCGTTTCTTCGGATGATATGATGGGTCAATCATTTGCTTCATTGGTTCCAACGGTGGCAGCTGCGGAATCCGCTATTGGGTTAGCCATTTTCGTTATTACTTTCCGAGTCCGAGGGACTATTGCTGTAGAATTTATTAATAGCATTCAAGGTTAA\n"
     ]
    }
   ],
   "source": [
    "print(dna_sequence)"
   ]
  },
  {
   "cell_type": "code",
   "execution_count": 343,
   "metadata": {},
   "outputs": [],
   "source": [
    "seqlen = len(dna_sequence)"
   ]
  },
  {
   "cell_type": "code",
   "execution_count": 344,
   "metadata": {},
   "outputs": [
    {
     "name": "stdout",
     "output_type": "stream",
     "text": [
      "Length of DNA sequence 303\n"
     ]
    }
   ],
   "source": [
    "print(\"Length of DNA sequence\", seqlen)"
   ]
  },
  {
   "cell_type": "code",
   "execution_count": 345,
   "metadata": {},
   "outputs": [
    {
     "name": "stdout",
     "output_type": "stream",
     "text": [
      "76\n"
     ]
    }
   ],
   "source": [
    "print(dna_sequence.count('A'))\n",
    "numA = dna_sequence.count('A')"
   ]
  },
  {
   "cell_type": "code",
   "execution_count": 346,
   "metadata": {},
   "outputs": [
    {
     "name": "stdout",
     "output_type": "stream",
     "text": [
      "The number of A's in dna.txt: 76\n"
     ]
    }
   ],
   "source": [
    "print(\"The number of A's in\", filename + \":\", numA)"
   ]
  },
  {
   "cell_type": "code",
   "execution_count": 347,
   "metadata": {},
   "outputs": [
    {
     "name": "stdout",
     "output_type": "stream",
     "text": [
      "The frequency of A's in dna.txt: 0.2508250825082508\n"
     ]
    }
   ],
   "source": [
    "frequencyofA = numA / seqlen\n",
    "print(\"The frequency of A's in\", filename + \":\", frequencyofA )"
   ]
  },
  {
   "cell_type": "code",
   "execution_count": 348,
   "metadata": {},
   "outputs": [
    {
     "name": "stdout",
     "output_type": "stream",
     "text": [
      "54\n"
     ]
    }
   ],
   "source": [
    "print(dna_sequence.count('C'))\n",
    "numC = dna_sequence.count('C')"
   ]
  },
  {
   "cell_type": "code",
   "execution_count": 349,
   "metadata": {},
   "outputs": [
    {
     "name": "stdout",
     "output_type": "stream",
     "text": [
      "The frequency of C's in dna.txt: 0.1782178217821782\n"
     ]
    }
   ],
   "source": [
    "frequencyofC = numC / seqlen\n",
    "print(\"The frequency of C's in\", filename + \":\", frequencyofC)"
   ]
  },
  {
   "cell_type": "code",
   "execution_count": 350,
   "metadata": {},
   "outputs": [
    {
     "name": "stdout",
     "output_type": "stream",
     "text": [
      "58\n"
     ]
    }
   ],
   "source": [
    "print(dna_sequence.count('G'))\n",
    "numG = dna_sequence.count('G')"
   ]
  },
  {
   "cell_type": "code",
   "execution_count": 351,
   "metadata": {},
   "outputs": [
    {
     "name": "stdout",
     "output_type": "stream",
     "text": [
      "The frequency of G's in dna.txt: 0.19141914191419143\n"
     ]
    }
   ],
   "source": [
    "frequencyofG = numG / seqlen\n",
    "print(\"The frequency of G's in\", filename + \":\", frequencyofG)"
   ]
  },
  {
   "cell_type": "code",
   "execution_count": 352,
   "metadata": {},
   "outputs": [
    {
     "name": "stdout",
     "output_type": "stream",
     "text": [
      "115\n"
     ]
    }
   ],
   "source": [
    "print(dna_sequence.count('T'))\n",
    "numT = dna_sequence.count('T')"
   ]
  },
  {
   "cell_type": "code",
   "execution_count": 353,
   "metadata": {},
   "outputs": [
    {
     "name": "stdout",
     "output_type": "stream",
     "text": [
      "The frequency of T in dna.txt: 0.3795379537953795\n"
     ]
    }
   ],
   "source": [
    "frequencyofT = numT / seqlen\n",
    "print(\"The frequency of T in\", filename + \":\", frequencyofT)"
   ]
  },
  {
   "cell_type": "code",
   "execution_count": 354,
   "metadata": {},
   "outputs": [
    {
     "name": "stdout",
     "output_type": "stream",
     "text": [
      "0.3696369636963696\n"
     ]
    }
   ],
   "source": [
    "GC = (numG + numC) /seqlen \n",
    "print(GC)"
   ]
  },
  {
   "cell_type": "code",
   "execution_count": 355,
   "metadata": {},
   "outputs": [
    {
     "name": "stdout",
     "output_type": "stream",
     "text": [
      "1.0\n"
     ]
    }
   ],
   "source": [
    "frequencytotal = frequencyofA + frequencyofC + frequencyofG + frequencyofT\n",
    "print(frequencytotal)"
   ]
  },
  {
   "cell_type": "code",
   "execution_count": 356,
   "metadata": {},
   "outputs": [],
   "source": [
    "outfile = open('nucleotide_composition.py', 'w')"
   ]
  },
  {
   "cell_type": "code",
   "execution_count": 357,
   "metadata": {},
   "outputs": [
    {
     "data": {
      "text/plain": "20"
     },
     "execution_count": 357,
     "metadata": {},
     "output_type": "execute_result"
    }
   ],
   "source": [
    "outfile.write('DNA sequence:' + dna_sequence + '\\n')\n",
    "outfile.write('Sequence length:' + str(seqlen) + 'nt' + '\\n')\n",
    "outfile.write(\"Number of A's:\" + str(numA) + '\\n')\n",
    "outfile.write(\"Frequency of A's:\" + str(frequencyofA) + '\\n')\n",
    "outfile.write(\"Number of C's:\" + str(numC) + '\\n')\n",
    "outfile.write(\"Frequency of C's:\" + str(frequencyofC) + '\\n')\n",
    "outfile.write(\"Number of G's:\" + str(numG) + '\\n')\n",
    "outfile.write(\"Frequency of G's:\" + str(frequencyofG) + '\\n')\n",
    "outfile.write(\"Number of T's:\" + str(numT) + '\\n')\n",
    "outfile.write(\"Frequency of T's:\" + str(frequencyofT) + '\\n')\n",
    "outfile.write(\"G+C content:\" + str(GC) + '\\n')\n",
    "outfile.write(\"Frequency Total:\" + str(frequencytotal) + '\\n')"
   ]
  },
  {
   "cell_type": "code",
   "execution_count": 358,
   "metadata": {},
   "outputs": [],
   "source": [
    "outfile.close()"
   ]
  }
 ],
 "metadata": {
  "kernelspec": {
   "display_name": "Python 3.8.5 64-bit",
   "name": "python385jvsc74a57bd031f2aee4e71d21fbe5cf8b01ff0e069b9275f58929596ceb00d14d90e3e16cd6"
  },
  "language_info": {
   "codemirror_mode": {
    "name": "ipython",
    "version": 3
   },
   "file_extension": ".py",
   "mimetype": "text/x-python",
   "name": "python",
   "nbconvert_exporter": "python",
   "pygments_lexer": "ipython3",
   "version": "3.8.5"
  },
  "metadata": {
   "interpreter": {
    "hash": "916dbcbb3f70747c44a77c7bcd40155683ae19c65e1c03b4aa3499c5328201f1"
   }
  },
  "orig_nbformat": 2
 },
 "nbformat": 4,
 "nbformat_minor": 2
}